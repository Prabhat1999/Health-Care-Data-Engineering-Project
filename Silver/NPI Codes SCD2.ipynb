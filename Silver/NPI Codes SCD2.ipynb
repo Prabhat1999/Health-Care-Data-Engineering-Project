{
 "cells": [
  {
   "cell_type": "code",
   "execution_count": 0,
   "metadata": {
    "application/vnd.databricks.v1+cell": {
     "cellMetadata": {
      "byteLimit": 2048000,
      "rowLimit": 10000
     },
     "inputWidgets": {},
     "nuid": "40a41493-967c-47e6-aa37-eb6009b3c764",
     "showTitle": false,
     "tableResultSettingsMap": {},
     "title": ""
    }
   },
   "outputs": [],
   "source": [
    "\n",
    "df=spark.read.parquet(\"/mnt/bronze/npi_extract\")\n",
    "df.createOrReplaceTempView('npi_extract')"
   ]
  },
  {
   "cell_type": "code",
   "execution_count": 0,
   "metadata": {
    "application/vnd.databricks.v1+cell": {
     "cellMetadata": {
      "byteLimit": 2048000,
      "implicitDf": true,
      "rowLimit": 10000
     },
     "inputWidgets": {},
     "nuid": "9d33e48e-ed8e-4e2e-8de5-fa8b8a89494d",
     "showTitle": false,
     "tableResultSettingsMap": {},
     "title": ""
    }
   },
   "outputs": [],
   "source": [
    "\n",
    "%sql\n",
    "CREATE TABLE IF NOT EXISTS silver.npi_extract (\n",
    "  npi_id STRING,\n",
    "  first_name STRING,\n",
    "  last_name STRING,\n",
    "  position STRING,\n",
    "  organisation_name STRING,\n",
    "  last_updated STRING,\n",
    "  inserted_date DATE,\n",
    "  updated_date DATE,\n",
    "  is_current_flag BOOLEAN\n",
    ")"
   ]
  },
  {
   "cell_type": "code",
   "execution_count": 0,
   "metadata": {
    "application/vnd.databricks.v1+cell": {
     "cellMetadata": {
      "byteLimit": 2048000,
      "implicitDf": true,
      "rowLimit": 10000
     },
     "inputWidgets": {},
     "nuid": "0532ea02-001f-45c2-bb14-294567c9fcb1",
     "showTitle": false,
     "tableResultSettingsMap": {},
     "title": ""
    }
   },
   "outputs": [],
   "source": [
    "%sql\n",
    "MERGE INTO\n",
    "  silver.npi_extract AS target\n",
    "USING\n",
    "  npi_extract AS source\n",
    "ON target.npi_id = source.npi_id and target.is_current_flag = true\n",
    "WHEN MATCHED AND\n",
    "  target.first_name != source.first_name OR\n",
    "  target.last_name != source.last_name OR\n",
    "  target.position != source.position OR\n",
    "  target.organisation_name != source.organisation_name OR\n",
    "  target.last_updated != source.last_updated\n",
    "  THEN UPDATE SET\n",
    "  target.updated_date = current_date,\n",
    "  target.is_current_flag = False\n"
   ]
  },
  {
   "cell_type": "code",
   "execution_count": 0,
   "metadata": {
    "application/vnd.databricks.v1+cell": {
     "cellMetadata": {
      "byteLimit": 2048000,
      "implicitDf": true,
      "rowLimit": 10000
     },
     "inputWidgets": {},
     "nuid": "5e417fa5-04fe-489e-a77f-17938a5493d4",
     "showTitle": false,
     "tableResultSettingsMap": {},
     "title": ""
    }
   },
   "outputs": [],
   "source": [
    "%sql\n",
    "MERGE INTO\n",
    "  silver.npi_extract AS target\n",
    "USING\n",
    "  npi_extract AS source\n",
    "ON target.npi_id = source.npi_id and target.is_current_flag = true\n",
    "WHEN NOT MATCHED THEN INSERT (\n",
    "   npi_id,\n",
    "  first_name ,\n",
    "  last_name ,\n",
    "  position ,\n",
    "  organisation_name ,\n",
    "  last_updated ,\n",
    "  inserted_date ,\n",
    "  updated_date ,\n",
    "  is_current_flag \n",
    ")\n",
    "  VALUES (\n",
    "    source.npi_id,\n",
    "  source.first_name ,\n",
    "  source.last_name ,\n",
    "  source.position ,\n",
    "  source.organisation_name ,\n",
    "  source.last_updated ,\n",
    "  current_date,\n",
    "  current_date, \n",
    "  true\n",
    "  )\n",
    "     "
   ]
  }
 ],
 "metadata": {
  "application/vnd.databricks.v1+notebook": {
   "computePreferences": null,
   "dashboards": [],
   "environmentMetadata": {
    "base_environment": "",
    "environment_version": "2"
   },
   "inputWidgetPreferences": null,
   "language": "python",
   "notebookMetadata": {
    "mostRecentlyExecutedCommandWithImplicitDF": {
     "commandId": 7514197591261922,
     "dataframes": [
      "_sqldf"
     ]
    },
    "pythonIndentUnit": 4
   },
   "notebookName": "NPI Codes SCD2",
   "widgets": {}
  },
  "language_info": {
   "name": "python"
  }
 },
 "nbformat": 4,
 "nbformat_minor": 0
}
