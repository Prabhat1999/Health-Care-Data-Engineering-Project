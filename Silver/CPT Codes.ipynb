{
 "cells": [
  {
   "cell_type": "code",
   "execution_count": 0,
   "metadata": {
    "application/vnd.databricks.v1+cell": {
     "cellMetadata": {
      "byteLimit": 2048000,
      "rowLimit": 10000
     },
     "inputWidgets": {},
     "nuid": "c51280dd-20da-4273-9f54-c2de9486b941",
     "showTitle": false,
     "tableResultSettingsMap": {},
     "title": ""
    }
   },
   "outputs": [],
   "source": [
    "from pyspark.sql import functions, SparkSession\n",
    "\n",
    "# Read from cpt csv file\n",
    "\n",
    "cpt_df = spark.read.csv(\"/mnt/landing/cptcodes/cptcodes.csv\", header=True, inferSchema=True)\n",
    "\n",
    "# Remove white spaces from col names and convert to lower case.\n",
    "\n",
    "for col in cpt_df.columns:\n",
    "    new_col = col.replace(\" \",\"_\").lower()\n",
    "    cpt_df=cpt_df.withColumnRenamed(col,new_col)\n",
    "display(cpt_df)"
   ]
  },
  {
   "cell_type": "code",
   "execution_count": 0,
   "metadata": {
    "application/vnd.databricks.v1+cell": {
     "cellMetadata": {
      "byteLimit": 2048000,
      "rowLimit": 10000
     },
     "inputWidgets": {},
     "nuid": "5989713b-05c3-4931-a021-58a2d9ee6722",
     "showTitle": false,
     "tableResultSettingsMap": {},
     "title": ""
    }
   },
   "outputs": [],
   "source": [
    "cpt_df.write.mode(\"overwrite\").format(\"parquet\").save(\"/mnt/bronze/cpt_codes\")"
   ]
  }
 ],
 "metadata": {
  "application/vnd.databricks.v1+notebook": {
   "computePreferences": null,
   "dashboards": [],
   "environmentMetadata": {
    "base_environment": "",
    "environment_version": "2"
   },
   "inputWidgetPreferences": null,
   "language": "python",
   "notebookMetadata": {
    "pythonIndentUnit": 4
   },
   "notebookName": "CPT Codes",
   "widgets": {}
  },
  "language_info": {
   "name": "python"
  }
 },
 "nbformat": 4,
 "nbformat_minor": 0
}
