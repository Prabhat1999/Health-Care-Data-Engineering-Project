{
 "cells": [
  {
   "cell_type": "code",
   "execution_count": 0,
   "metadata": {
    "application/vnd.databricks.v1+cell": {
     "cellMetadata": {
      "byteLimit": 2048000,
      "rowLimit": 10000
     },
     "inputWidgets": {},
     "nuid": "dcfb6729-aab2-4965-8cb6-b724bcfed94f",
     "showTitle": false,
     "tableResultSettingsMap": {},
     "title": ""
    }
   },
   "outputs": [],
   "source": [
    "cpt_df = spark.read.parquet(\"/mnt/bronze/cpt_codes\")\n",
    "\n",
    "cpt_df.createOrReplaceTempView(\"cpt\")\n"
   ]
  },
  {
   "cell_type": "code",
   "execution_count": 0,
   "metadata": {
    "application/vnd.databricks.v1+cell": {
     "cellMetadata": {
      "byteLimit": 2048000,
      "implicitDf": true,
      "rowLimit": 10000
     },
     "inputWidgets": {},
     "nuid": "87225d79-e3ab-4067-9014-4ab55e231c13",
     "showTitle": false,
     "tableResultSettingsMap": {},
     "title": ""
    }
   },
   "outputs": [],
   "source": [
    "%sql\n",
    "CREATE OR REPLACE TEMP VIEW quality_checks AS\n",
    "SELECT \n",
    " cpt_codes,\n",
    " procedure_code_category,\n",
    " procedure_code_descriptions,\n",
    " code_status,\n",
    "    CASE \n",
    "        WHEN cpt_codes IS NULL OR procedure_code_descriptions IS NULL  THEN TRUE\n",
    "        ELSE FALSE\n",
    "    END AS is_bad_data\n",
    "FROM cpt"
   ]
  },
  {
   "cell_type": "code",
   "execution_count": 0,
   "metadata": {
    "application/vnd.databricks.v1+cell": {
     "cellMetadata": {
      "byteLimit": 2048000,
      "implicitDf": true,
      "rowLimit": 10000
     },
     "inputWidgets": {},
     "nuid": "50161fc7-dfdc-494b-b5b8-0fd0eba52244",
     "showTitle": false,
     "tableResultSettingsMap": {},
     "title": ""
    }
   },
   "outputs": [],
   "source": [
    "%sql\n",
    "CREATE SCHEMA IF NOT EXISTS silver;"
   ]
  },
  {
   "cell_type": "code",
   "execution_count": 0,
   "metadata": {
    "application/vnd.databricks.v1+cell": {
     "cellMetadata": {
      "byteLimit": 2048000,
      "implicitDf": true,
      "rowLimit": 10000
     },
     "inputWidgets": {},
     "nuid": "97e4c241-ed9b-4dc5-a9b0-8f8461d318fb",
     "showTitle": false,
     "tableResultSettingsMap": {},
     "title": ""
    }
   },
   "outputs": [],
   "source": [
    "%sql\n",
    "CREATE TABLE IF NOT EXISTS silver.cptcodes (\n",
    "cpt_codes string,\n",
    "procedure_code_category string,\n",
    "procedure_code_descriptions string,\n",
    "code_status string,\n",
    "is_bad_data boolean,\n",
    "audit_insertdate timestamp,\n",
    "audit_modifieddate timestamp,\n",
    "is_current boolean\n",
    ")\n",
    "USING DELTA;"
   ]
  },
  {
   "cell_type": "code",
   "execution_count": 0,
   "metadata": {
    "application/vnd.databricks.v1+cell": {
     "cellMetadata": {
      "byteLimit": 2048000,
      "implicitDf": true,
      "rowLimit": 10000
     },
     "inputWidgets": {},
     "nuid": "cece7faa-6956-4cda-890b-f363da00d4e8",
     "showTitle": false,
     "tableResultSettingsMap": {},
     "title": ""
    }
   },
   "outputs": [],
   "source": [
    "%sql\n",
    "-- Update old record to implement SCD Type 2\n",
    "MERGE INTO silver.cptcodes AS target\n",
    "USING quality_checks AS source\n",
    "ON target.cpt_codes = source.cpt_codes AND target.is_current = true\n",
    "WHEN MATCHED AND (\n",
    "    target.procedure_code_category != source.procedure_code_category OR\n",
    "    target.procedure_code_descriptions != source.procedure_code_descriptions OR\n",
    "    target.code_status != source.code_status OR\n",
    "    target.is_bad_data != source.is_bad_data\n",
    ") THEN\n",
    "  UPDATE SET\n",
    "    target.is_current = false,\n",
    "    target.audit_modifieddate = current_timestamp()\n"
   ]
  },
  {
   "cell_type": "code",
   "execution_count": 0,
   "metadata": {
    "application/vnd.databricks.v1+cell": {
     "cellMetadata": {
      "byteLimit": 2048000,
      "implicitDf": true,
      "rowLimit": 10000
     },
     "inputWidgets": {},
     "nuid": "ab89ba3d-99f9-42c5-901e-aa5f69161c82",
     "showTitle": false,
     "tableResultSettingsMap": {},
     "title": ""
    }
   },
   "outputs": [],
   "source": [
    "%sql\n",
    "-- Insert new record to implement SCD Type 2\n",
    "MERGE INTO silver.cptcodes AS target\n",
    "USING quality_checks AS source\n",
    "ON target.cpt_codes = source.cpt_codes AND target.is_current = true\n",
    "WHEN NOT MATCHED THEN\n",
    "  INSERT (\n",
    "    cpt_codes,\n",
    "    procedure_code_category,\n",
    "    procedure_code_descriptions,\n",
    "    code_status,\n",
    "    is_bad_data,\n",
    "    audit_insertdate,\n",
    "    audit_modifieddate,\n",
    "    is_current\n",
    "  )\n",
    "  VALUES (\n",
    "    source.cpt_codes,\n",
    "    source.procedure_code_category,\n",
    "    source.procedure_code_descriptions,\n",
    "    source.code_status,\n",
    "    source.is_bad_data,\n",
    "    current_timestamp(),\n",
    "    current_timestamp(),\n",
    "    true\n",
    "  );\n"
   ]
  }
 ],
 "metadata": {
  "application/vnd.databricks.v1+notebook": {
   "computePreferences": null,
   "dashboards": [],
   "environmentMetadata": {
    "base_environment": "",
    "environment_version": "2"
   },
   "inputWidgetPreferences": null,
   "language": "python",
   "notebookMetadata": {
    "mostRecentlyExecutedCommandWithImplicitDF": {
     "commandId": 4615503365621357,
     "dataframes": [
      "_sqldf"
     ]
    },
    "pythonIndentUnit": 4
   },
   "notebookName": "CPT Code SCD2",
   "widgets": {}
  },
  "language_info": {
   "name": "python"
  }
 },
 "nbformat": 4,
 "nbformat_minor": 0
}
