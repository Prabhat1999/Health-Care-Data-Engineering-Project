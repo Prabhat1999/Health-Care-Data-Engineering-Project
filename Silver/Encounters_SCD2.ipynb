{
 "cells": [
  {
   "cell_type": "code",
   "execution_count": 0,
   "metadata": {
    "application/vnd.databricks.v1+cell": {
     "cellMetadata": {
      "byteLimit": 2048000,
      "implicitDf": true,
      "rowLimit": 10000
     },
     "inputWidgets": {},
     "nuid": "1246adf8-da72-44e9-865e-1e7cf1f53e9d",
     "showTitle": false,
     "tableResultSettingsMap": {},
     "title": ""
    }
   },
   "outputs": [],
   "source": [
    "%sql \n",
    "\n",
    "CREATE OR REPLACE TEMP VIEW encounters_hosa\n",
    "USING parquet\n",
    "OPTIONS (\n",
    "  path=\"/mnt/bronze/hosa/encounters\"\n",
    ");\n",
    "\n",
    "\n",
    "CREATE OR REPLACE TEMP VIEW encounters_hosb\n",
    "USING parquet\n",
    "OPTIONS (\n",
    "  path=\"/mnt/bronze/hosb/encounters\"\n",
    ");\n",
    "\n",
    "CREATE OR REPLACE TEMP VIEW encounters AS\n",
    "SELECT * FROM encounters_hosa\n",
    "UNION ALL \n",
    "SELECT * FROM encounters_hosb;\n",
    "\n",
    "SELECT * FROM encounters;\n"
   ]
  },
  {
   "cell_type": "code",
   "execution_count": 0,
   "metadata": {
    "application/vnd.databricks.v1+cell": {
     "cellMetadata": {
      "byteLimit": 2048000,
      "implicitDf": true,
      "rowLimit": 10000
     },
     "inputWidgets": {},
     "nuid": "9bb804ef-3921-4ec4-9085-032158d67531",
     "showTitle": false,
     "tableResultSettingsMap": {},
     "title": ""
    }
   },
   "outputs": [],
   "source": [
    "%sql \n",
    "\n",
    "CREATE OR REPLACE TEMP VIEW quality_checks AS\n",
    "SELECT \n",
    "concat( EncounterID,'-', datasource) as EncounterID,\n",
    "EncounterID SRC_EncounterID,\n",
    "PatientID,\n",
    "EncounterDate,\n",
    "EncounterType,\n",
    "ProviderID,\n",
    "DepartmentID,\n",
    "ProcedureCode,\n",
    "InsertDate as SRC_InsertedDate,\n",
    "ModifiedDate as SRC_ModifiedDate,\n",
    "datasource,\n",
    "    CASE \n",
    "        WHEN EncounterID IS NULL OR PatientID IS NULL THEN TRUE\n",
    "        ELSE FALSE\n",
    "    END AS is_bad_data\n",
    "FROM encounters;\n",
    "\n",
    "SELECT * FROM quality_checks where datasource = 'hos-b'\n"
   ]
  },
  {
   "cell_type": "code",
   "execution_count": 0,
   "metadata": {
    "application/vnd.databricks.v1+cell": {
     "cellMetadata": {
      "byteLimit": 2048000,
      "implicitDf": true,
      "rowLimit": 10000
     },
     "inputWidgets": {},
     "nuid": "64c96d3d-4552-42be-9434-e157e67824e5",
     "showTitle": false,
     "tableResultSettingsMap": {},
     "title": ""
    }
   },
   "outputs": [],
   "source": [
    "%sql \n",
    "\n",
    "CREATE TABLE IF NOT EXISTS silver.encounters (\n",
    "  EncounterID string,\n",
    "  SRC_EncounterID string,\n",
    "  PatientID string,\n",
    "  EncounterDate date,\n",
    "  EncounterType string,\n",
    "  ProviderID string,\n",
    "  DepartmentID string,\n",
    "  ProcedureCode integer,\n",
    "  SRC_InsertedDate date,\n",
    "  SRC_ModifiedDate date,\n",
    "  datasource string,\n",
    "  is_bad_data boolean,\n",
    "  audit_insertdate timestamp,\n",
    "  audit_modifieddate timestamp,\n",
    "  is_current boolean\n",
    "  )\n",
    "USING DELTA;\n"
   ]
  },
  {
   "cell_type": "code",
   "execution_count": 0,
   "metadata": {
    "application/vnd.databricks.v1+cell": {
     "cellMetadata": {
      "byteLimit": 2048000,
      "implicitDf": true,
      "rowLimit": 10000
     },
     "inputWidgets": {},
     "nuid": "578aaea8-ee6e-47aa-98e5-5802737de8f6",
     "showTitle": false,
     "tableResultSettingsMap": {},
     "title": ""
    }
   },
   "outputs": [],
   "source": [
    "%sql\n",
    "-- Update old record to implement SCD Type 2\n",
    "MERGE INTO silver.encounters AS target\n",
    "USING quality_checks AS source\n",
    "ON target.EncounterID = source.EncounterID \n",
    "AND target.is_current = true\n",
    "WHEN MATCHED AND (\n",
    "    target.SRC_EncounterID != source.SRC_EncounterID OR\n",
    "    target.PatientID != source.PatientID OR\n",
    "    target.EncounterDate != source.EncounterDate OR\n",
    "    target.EncounterType != source.EncounterType OR\n",
    "    target.ProviderID != source.ProviderID OR\n",
    "    target.DepartmentID != source.DepartmentID OR\n",
    "    target.ProcedureCode != source.ProcedureCode OR\n",
    "    target.SRC_InsertedDate != source.SRC_InsertedDate OR\n",
    "    target.SRC_ModifiedDate != source.SRC_ModifiedDate OR\n",
    "    target.datasource != source.datasource OR\n",
    "    target.is_bad_data != source.is_bad_data\n",
    ") THEN\n",
    "  UPDATE SET\n",
    "    target.is_current = false,\n",
    "    target.audit_modifieddate = current_timestamp()\n"
   ]
  },
  {
   "cell_type": "code",
   "execution_count": 0,
   "metadata": {
    "application/vnd.databricks.v1+cell": {
     "cellMetadata": {
      "byteLimit": 2048000,
      "implicitDf": true,
      "rowLimit": 10000
     },
     "inputWidgets": {},
     "nuid": "78750f7a-fa41-4d01-bd28-1fadfe94bcdf",
     "showTitle": false,
     "tableResultSettingsMap": {},
     "title": ""
    }
   },
   "outputs": [],
   "source": [
    "%sql\n",
    "-- Insert new record to implement SCD Type 2\n",
    "MERGE INTO silver.encounters AS target USING quality_checks AS source ON target.EncounterID = source.EncounterID\n",
    "AND target.is_current = true\n",
    "WHEN NOT MATCHED THEN\n",
    "INSERT\n",
    "  (\n",
    "    EncounterID,\n",
    "    SRC_EncounterID,\n",
    "    PatientID,\n",
    "    EncounterDate,\n",
    "    EncounterType,\n",
    "    ProviderID,\n",
    "    DepartmentID,\n",
    "    ProcedureCode,\n",
    "    SRC_InsertedDate,\n",
    "    SRC_ModifiedDate,\n",
    "    datasource,\n",
    "    is_bad_data,\n",
    "    audit_insertdate,\n",
    "    audit_modifieddate,\n",
    "    is_current\n",
    "  )\n",
    "VALUES\n",
    "  (\n",
    "    source.EncounterID,\n",
    "    source.SRC_EncounterID,\n",
    "    source.PatientID,\n",
    "    source.EncounterDate,\n",
    "    source.EncounterType,\n",
    "    source.ProviderID,\n",
    "    source.DepartmentID,\n",
    "    source.ProcedureCode,\n",
    "    source.SRC_InsertedDate,\n",
    "    source.SRC_ModifiedDate,\n",
    "    source.datasource,\n",
    "    source.is_bad_data,\n",
    "    current_timestamp(),\n",
    "    current_timestamp(),\n",
    "    true\n",
    "  );"
   ]
  },
  {
   "cell_type": "code",
   "execution_count": 0,
   "metadata": {
    "application/vnd.databricks.v1+cell": {
     "cellMetadata": {},
     "inputWidgets": {},
     "nuid": "eb9abad9-d9a0-4896-b340-4134fb407b28",
     "showTitle": false,
     "tableResultSettingsMap": {},
     "title": ""
    }
   },
   "outputs": [],
   "source": []
  }
 ],
 "metadata": {
  "application/vnd.databricks.v1+notebook": {
   "computePreferences": null,
   "dashboards": [],
   "environmentMetadata": {
    "base_environment": "",
    "environment_version": "2"
   },
   "inputWidgetPreferences": null,
   "language": "python",
   "notebookMetadata": {
    "mostRecentlyExecutedCommandWithImplicitDF": {
     "commandId": 6257182273474350,
     "dataframes": [
      "_sqldf"
     ]
    },
    "pythonIndentUnit": 4
   },
   "notebookName": "Encounters_SCD2",
   "widgets": {}
  },
  "language_info": {
   "name": "python"
  }
 },
 "nbformat": 4,
 "nbformat_minor": 0
}
