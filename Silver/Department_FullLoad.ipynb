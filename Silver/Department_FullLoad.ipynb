{
 "cells": [
  {
   "cell_type": "code",
   "execution_count": 0,
   "metadata": {
    "application/vnd.databricks.v1+cell": {
     "cellMetadata": {
      "byteLimit": 2048000,
      "rowLimit": 10000
     },
     "inputWidgets": {},
     "nuid": "dbb339fc-49de-4054-9b42-97d93bb34dcf",
     "showTitle": false,
     "tableResultSettingsMap": {},
     "title": ""
    }
   },
   "outputs": [],
   "source": [
    "df_dep_a = spark.read.parquet(\"/mnt/bronze/hosa/departments\")\n",
    "df_dep_b = spark.read.parquet(\"/mnt/bronze/hosb/departments\")"
   ]
  },
  {
   "cell_type": "code",
   "execution_count": 0,
   "metadata": {
    "application/vnd.databricks.v1+cell": {
     "cellMetadata": {
      "byteLimit": 2048000,
      "rowLimit": 10000
     },
     "inputWidgets": {},
     "nuid": "e341e0f6-a83d-43bc-91ba-263be7c31163",
     "showTitle": false,
     "tableResultSettingsMap": {},
     "title": ""
    }
   },
   "outputs": [],
   "source": [
    "df_dep_a.show()"
   ]
  },
  {
   "cell_type": "code",
   "execution_count": 0,
   "metadata": {
    "application/vnd.databricks.v1+cell": {
     "cellMetadata": {
      "byteLimit": 2048000,
      "rowLimit": 10000
     },
     "inputWidgets": {},
     "nuid": "2f6e9183-abd8-40ce-b952-a2027678c27c",
     "showTitle": false,
     "tableResultSettingsMap": {},
     "title": ""
    }
   },
   "outputs": [],
   "source": [
    "from pyspark.sql.functions import col,lit\n",
    "from pyspark.sql.functions import concat\n",
    "\n",
    "df_mearged = df_dep_a.unionByName(df_dep_b)\n",
    "\n",
    "# Create dept_id column and rename deptid to src_dept_id\n",
    "df_mearged = df_mearged.withColumn(\"SRC_Dept_id\", col(\"deptid\"))\\\n",
    "    .withColumn(\"Dept_id\",concat(col(\"deptid\"),lit(\"-\"),col(\"datasource\")))\\\n",
    "        .drop(\"deptid\")\n",
    "\n",
    "display(df_mearged)"
   ]
  },
  {
   "cell_type": "code",
   "execution_count": 0,
   "metadata": {
    "application/vnd.databricks.v1+cell": {
     "cellMetadata": {
      "byteLimit": 2048000,
      "rowLimit": 10000
     },
     "inputWidgets": {},
     "nuid": "7a95e506-4440-407d-9817-67a5d01d0fc0",
     "showTitle": false,
     "tableResultSettingsMap": {},
     "title": ""
    }
   },
   "outputs": [],
   "source": [
    "df_mearged.createOrReplaceTempView(\"departments\")\n"
   ]
  },
  {
   "cell_type": "code",
   "execution_count": 0,
   "metadata": {
    "application/vnd.databricks.v1+cell": {
     "cellMetadata": {
      "byteLimit": 2048000,
      "implicitDf": true,
      "rowLimit": 10000
     },
     "inputWidgets": {},
     "nuid": "a64e9271-e168-4356-816c-a82e107e0b58",
     "showTitle": false,
     "tableResultSettingsMap": {},
     "title": ""
    }
   },
   "outputs": [],
   "source": [
    "\n",
    "%sql\n",
    "CREATE TABLE IF NOT EXISTS silver.departments (\n",
    "    Dept_id string,\n",
    "    SRC_Dept_id string,\n",
    "    Name string,\n",
    "    datasource string,\n",
    "    is_bad_data boolean\n",
    ")\n",
    "USING DELTA;\n",
    "\n",
    "TRUNCATE TABLE silver.departments;\n"
   ]
  },
  {
   "cell_type": "code",
   "execution_count": 0,
   "metadata": {
    "application/vnd.databricks.v1+cell": {
     "cellMetadata": {
      "byteLimit": 2048000,
      "implicitDf": true,
      "rowLimit": 10000
     },
     "inputWidgets": {},
     "nuid": "95c2aeb4-581a-4e03-9b1d-68cabc8ccfe6",
     "showTitle": false,
     "tableResultSettingsMap": {},
     "title": ""
    }
   },
   "outputs": [],
   "source": [
    "%sql\n",
    "\n",
    "INSERT INTO silver.departments\n",
    "SELECT \n",
    "Dept_id,\n",
    "SRC_Dept_id ,\n",
    "Name,\n",
    "Datasource,\n",
    "  CASE\n",
    "    WHEN SRC_Dept_id IS NULL THEN TRUE\n",
    "    ELSE FALSE \n",
    "  END AS is_bad_data\n",
    "FROM departments\n",
    "\n"
   ]
  },
  {
   "cell_type": "code",
   "execution_count": 0,
   "metadata": {
    "application/vnd.databricks.v1+cell": {
     "cellMetadata": {},
     "inputWidgets": {},
     "nuid": "fe5330f0-bdb6-4139-9577-572b0b9ac7cf",
     "showTitle": false,
     "tableResultSettingsMap": {},
     "title": ""
    }
   },
   "outputs": [],
   "source": []
  }
 ],
 "metadata": {
  "application/vnd.databricks.v1+notebook": {
   "computePreferences": null,
   "dashboards": [],
   "environmentMetadata": {
    "base_environment": "",
    "environment_version": "2"
   },
   "inputWidgetPreferences": null,
   "language": "python",
   "notebookMetadata": {
    "mostRecentlyExecutedCommandWithImplicitDF": {
     "commandId": 5957534801481359,
     "dataframes": [
      "_sqldf"
     ]
    },
    "pythonIndentUnit": 4
   },
   "notebookName": "Department_FullLoad",
   "widgets": {}
  },
  "language_info": {
   "name": "python"
  }
 },
 "nbformat": 4,
 "nbformat_minor": 0
}
