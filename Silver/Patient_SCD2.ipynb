{
 "cells": [
  {
   "cell_type": "code",
   "execution_count": 0,
   "metadata": {
    "application/vnd.databricks.v1+cell": {
     "cellMetadata": {
      "byteLimit": 2048000,
      "rowLimit": 10000
     },
     "inputWidgets": {},
     "nuid": "397854fa-3c2b-43c4-b3b5-383bd445619a",
     "showTitle": false,
     "tableResultSettingsMap": {},
     "title": ""
    }
   },
   "outputs": [],
   "source": [
    "df_patient_hosa = spark.read.parquet('/mnt/bronze/hosa/patients')\n",
    "df_patient_hosa.createOrReplaceTempView(\"patient_hosa\")\n",
    "\n",
    "df_patient_hosb = spark.read.parquet('/mnt/bronze/hosb/patients')\n",
    "df_patient_hosb.createOrReplaceTempView(\"patient_hosb\")"
   ]
  },
  {
   "cell_type": "code",
   "execution_count": 0,
   "metadata": {
    "application/vnd.databricks.v1+cell": {
     "cellMetadata": {
      "byteLimit": 2048000,
      "implicitDf": true,
      "rowLimit": 10000
     },
     "inputWidgets": {},
     "nuid": "5757bc47-9f82-4632-9e5d-9b9d198f21f7",
     "showTitle": false,
     "tableResultSettingsMap": {},
     "title": ""
    }
   },
   "outputs": [],
   "source": [
    "%sql\n",
    "SELECT * FROM patient_hosa"
   ]
  },
  {
   "cell_type": "code",
   "execution_count": 0,
   "metadata": {
    "application/vnd.databricks.v1+cell": {
     "cellMetadata": {
      "byteLimit": 2048000,
      "implicitDf": true,
      "rowLimit": 10000
     },
     "inputWidgets": {},
     "nuid": "dee5c644-c22a-40d9-8225-98c46c6b555e",
     "showTitle": false,
     "tableResultSettingsMap": {},
     "title": ""
    }
   },
   "outputs": [],
   "source": [
    "%sql\n",
    "SELECT * FROM patient_hosb"
   ]
  },
  {
   "cell_type": "code",
   "execution_count": 0,
   "metadata": {
    "application/vnd.databricks.v1+cell": {
     "cellMetadata": {
      "byteLimit": 2048000,
      "implicitDf": true,
      "rowLimit": 10000
     },
     "inputWidgets": {},
     "nuid": "3382cfa7-2791-45e5-a93d-0bcc74d3849c",
     "showTitle": false,
     "tableResultSettingsMap": {},
     "title": ""
    }
   },
   "outputs": [],
   "source": [
    "%sql\n",
    "-- implementing cdm - Common Data Model !!!! Because the col name for both hosa and hosb patient is different. \n",
    "\n",
    "CREATE OR REPLACE TEMP VIEW cdm_patients AS \n",
    "SELECT CONCAT(SRC_PatientID,'-',datasource) As Patient_Key, *\n",
    "FROM (\n",
    "  SELECT \n",
    "  PatientID AS SRC_PatientID ,\n",
    "  FirstName,\n",
    "  LastName,\n",
    "  MiddleName,\n",
    "  SSN,\n",
    "  PhoneNumber,\n",
    "  Gender,\n",
    "  DOB,\n",
    "  Address,\n",
    "  ModifiedDate,\n",
    "  datasource\n",
    "  FROM patient_hosa\n",
    "  UNION ALL\n",
    "  SELECT \n",
    "  ID AS SRC_PatientID,\n",
    "  F_Name AS FirstName,\n",
    "  L_Name AS LastName,\n",
    "  M_Name ASMiddleName,\n",
    "  SSN,\n",
    "  PhoneNumber,\n",
    "  Gender,\n",
    "  DOB,\n",
    "  Address,\n",
    "  Updated_Date AS ModifiedDate,\n",
    "  datasource\n",
    "  FROM patient_hosb\n",
    ")\n"
   ]
  },
  {
   "cell_type": "code",
   "execution_count": 0,
   "metadata": {
    "application/vnd.databricks.v1+cell": {
     "cellMetadata": {
      "byteLimit": 2048000,
      "implicitDf": true,
      "rowLimit": 10000
     },
     "inputWidgets": {},
     "nuid": "024914c3-af1f-499d-bf3b-6d6ca263a554",
     "showTitle": false,
     "tableResultSettingsMap": {},
     "title": ""
    }
   },
   "outputs": [],
   "source": [
    "%sql\n",
    "\n",
    "SELECT * FROM cdm_patients"
   ]
  },
  {
   "cell_type": "code",
   "execution_count": 0,
   "metadata": {
    "application/vnd.databricks.v1+cell": {
     "cellMetadata": {
      "byteLimit": 2048000,
      "implicitDf": true,
      "rowLimit": 10000
     },
     "inputWidgets": {},
     "nuid": "d3a8a573-3ac3-4da6-a882-3d3c5446247f",
     "showTitle": false,
     "tableResultSettingsMap": {},
     "title": ""
    }
   },
   "outputs": [],
   "source": [
    "%sql\n",
    "-- Implementing quality check and moving the bad data to isQuarentined\n",
    "\n",
    "CREATE OR REPLACE TEMP VIEW quality_checks AS\n",
    "SELECT \n",
    "  Patient_Key,\n",
    "  SRC_PatientID,\n",
    "  FirstName,\n",
    "  LastName,\n",
    "  MiddleName,\n",
    "  SSN,\n",
    "  PhoneNumber,\n",
    "  Gender,\n",
    "  DOB,\n",
    "  Address,\n",
    "  ModifiedDate As SRC_ModifiedDate,\n",
    "  datasource,\n",
    "  CASE \n",
    "    WHEN SRC_PatientID IS NULL OR dob IS NULL OR firstname IS NULL or lower(firstname)='null' THEN TRUE\n",
    "    ELSE FALSE\n",
    "    END AS is_bad_data\n",
    "FROM cdm_patients\n"
   ]
  },
  {
   "cell_type": "code",
   "execution_count": 0,
   "metadata": {
    "application/vnd.databricks.v1+cell": {
     "cellMetadata": {
      "byteLimit": 2048000,
      "implicitDf": true,
      "rowLimit": 10000
     },
     "inputWidgets": {},
     "nuid": "b2bd6e20-bfe1-45de-b2a1-09c827b2c4aa",
     "showTitle": false,
     "tableResultSettingsMap": {},
     "title": ""
    }
   },
   "outputs": [],
   "source": [
    "%sql\n",
    "select * from quality_checks\n",
    "order by is_bad_data desc"
   ]
  },
  {
   "cell_type": "code",
   "execution_count": 0,
   "metadata": {
    "application/vnd.databricks.v1+cell": {
     "cellMetadata": {
      "byteLimit": 2048000,
      "implicitDf": true,
      "rowLimit": 10000
     },
     "inputWidgets": {},
     "nuid": "0be4ff87-2a54-46e2-98a3-8830051a9dbb",
     "showTitle": false,
     "tableResultSettingsMap": {},
     "title": ""
    }
   },
   "outputs": [],
   "source": [
    "\n",
    "%sql\n",
    "CREATE TABLE IF NOT EXISTS silver.patients (\n",
    "    Patient_Key STRING,\n",
    "    SRC_PatientID STRING,\n",
    "    FirstName STRING,\n",
    "    LastName STRING,\n",
    "    MiddleName STRING,\n",
    "    SSN STRING,\n",
    "    PhoneNumber STRING,\n",
    "    Gender STRING,\n",
    "    DOB DATE,\n",
    "    Address STRING,\n",
    "    SRC_ModifiedDate TIMESTAMP,\n",
    "    datasource STRING,\n",
    "    is_bad_data BOOLEAN,\n",
    "    inserted_date TIMESTAMP,\n",
    "    modified_date TIMESTAMP,\n",
    "    is_current BOOLEAN\n",
    ")\n",
    "USING DELTA;\n"
   ]
  },
  {
   "cell_type": "code",
   "execution_count": 0,
   "metadata": {
    "application/vnd.databricks.v1+cell": {
     "cellMetadata": {
      "byteLimit": 2048000,
      "implicitDf": true,
      "rowLimit": 10000
     },
     "inputWidgets": {},
     "nuid": "2c00c306-64ba-4259-a04d-65411e0df9ef",
     "showTitle": false,
     "tableResultSettingsMap": {},
     "title": ""
    }
   },
   "outputs": [],
   "source": [
    "%sql \n",
    "\n",
    "-- Now we will implement SCD 2 - We will take use of the cols - insert_date, modify_date, is_current\n",
    "-- Insert_date will store the date when the row data was inserted \n",
    "-- Modified_date will store the date when the row was modified, this will same as insert_timestamp, when the record first comes in to the table\n",
    "-- is_current - boolean - this will hold true/false value if the data is current data then true, if previous data then false\n",
    "\n",
    "--STEP1\n",
    "-- Here first we will mark the existing record as historical record if a same record of same key comes in !!!\n",
    "\n",
    "MERGE INTO silver.patients AS target \n",
    "USING quality_checks AS source\n",
    "ON target.Patient_Key = source.Patient_Key\n",
    "AND target.is_current = true \n",
    "WHEN MATCHED\n",
    "AND (\n",
    "  target.SRC_PatientID <> source.SRC_PatientID OR\n",
    "  target.FirstName <> source.FirstName OR\n",
    "  target.LastName <> source.LastName OR\n",
    "  target.MiddleName <> source.MiddleName OR\n",
    "  target.SSN <> source.SSN OR\n",
    "  target.PhoneNumber <> source.PhoneNumber OR\n",
    "  target.Gender <> source.Gender OR\n",
    "  target.DOB <> source.DOB OR\n",
    "  target.Address <> source.Address OR\n",
    "  target.SRC_ModifiedDate <> source.SRC_ModifiedDate OR\n",
    "  target.datasource <> source.datasource OR\n",
    "  target.is_bad_data <> source.is_bad_data\n",
    ")\n",
    "THEN UPDATE SET \n",
    "  target.is_current=false,\n",
    "  target.modified_date = current_timestamp()\n",
    "\n",
    "WHEN NOT MATCHED\n",
    "THEN INSERT(\n",
    "  Patient_Key,\n",
    "  SRC_PatientID,\n",
    "  FirstName,\n",
    "  LastName,\n",
    "  MiddleName,\n",
    "  SSN,\n",
    "  PhoneNumber,\n",
    "  Gender,\n",
    "  DOB,\n",
    "  Address,\n",
    "  SRC_ModifiedDate,\n",
    "  datasource,\n",
    "  is_bad_data,\n",
    "  inserted_date,\n",
    "  modified_date,\n",
    "  is_current\n",
    ")VALUES(\n",
    "  source.Patient_Key,\n",
    "  source.SRC_PatientID,\n",
    "  source.FirstName,\n",
    "  source.LastName,\n",
    "  source.MiddleName,\n",
    "  source.SSN,\n",
    "  source.PhoneNumber,\n",
    "  source.Gender,\n",
    "  source.DOB,\n",
    "  source.Address,\n",
    "  source.SRC_ModifiedDate,\n",
    "  source.datasource,\n",
    "  source.is_bad_data,\n",
    "  current_timestamp(),\n",
    "  current_timestamp(),\n",
    "  true\n",
    "  )\n",
    "\n"
   ]
  },
  {
   "cell_type": "code",
   "execution_count": 0,
   "metadata": {
    "application/vnd.databricks.v1+cell": {
     "cellMetadata": {
      "byteLimit": 2048000,
      "implicitDf": true,
      "rowLimit": 10000
     },
     "inputWidgets": {},
     "nuid": "117600de-5a86-4efb-a7a4-83cd4dcaac30",
     "showTitle": false,
     "tableResultSettingsMap": {},
     "title": ""
    }
   },
   "outputs": [],
   "source": [
    "%sql\n",
    "--STEP 2: The records that came again, now these should be uploaded as new records with current flag as true\n",
    "\n",
    "MERGE INTO silver.patients AS target\n",
    "USING quality_checks AS source\n",
    "ON target.Patient_Key = source.Patient_Key\n",
    "AND target.is_current= true -- THIS  WILL MAKE THEM NOT MATCHED, AS WE MADE THE EARLIER RECORD FALSE\n",
    "WHEN NOT MATCHED\n",
    "THEN INSERT(\n",
    "  Patient_Key,\n",
    "  SRC_PatientID,\n",
    "  FirstName,\n",
    "  LastName,\n",
    "  MiddleName,\n",
    "  SSN,\n",
    "  PhoneNumber,\n",
    "  Gender,\n",
    "  DOB,\n",
    "  Address,\n",
    "  SRC_ModifiedDate,\n",
    "  datasource,\n",
    "  is_bad_data,\n",
    "  inserted_date,\n",
    "  modified_date,\n",
    "  is_current\n",
    ")\n",
    "VALUES(\n",
    "  source.Patient_Key,\n",
    "  source.SRC_PatientID,\n",
    "  source.FirstName,\n",
    "  source.LastName,\n",
    "  source.MiddleName,\n",
    "  source.SSN,\n",
    "  source.PhoneNumber,\n",
    "  source.Gender,\n",
    "  source.DOB,\n",
    "  source.Address,\n",
    "  source.SRC_ModifiedDate,\n",
    "  source.datasource,\n",
    "  source.is_bad_data,\n",
    "  current_timestamp(), -- Set inserted_date to current timestamp\n",
    "  current_timestamp(), -- Set modified_date to current timestamp\n",
    "  true -- Mark as current\n",
    " );\n"
   ]
  },
  {
   "cell_type": "code",
   "execution_count": 0,
   "metadata": {
    "application/vnd.databricks.v1+cell": {
     "cellMetadata": {
      "byteLimit": 2048000,
      "implicitDf": true,
      "rowLimit": 10000
     },
     "inputWidgets": {},
     "nuid": "1cef6f22-06f4-43c0-a786-436c9eb46c8e",
     "showTitle": false,
     "tableResultSettingsMap": {},
     "title": ""
    }
   },
   "outputs": [],
   "source": [
    "%sql\n",
    "select count(*),Patient_Key from silver.patients\n",
    "group by patient_key\n",
    "order by 1 desc"
   ]
  }
 ],
 "metadata": {
  "application/vnd.databricks.v1+notebook": {
   "computePreferences": null,
   "dashboards": [],
   "environmentMetadata": {
    "base_environment": "",
    "environment_version": "2"
   },
   "inputWidgetPreferences": null,
   "language": "python",
   "notebookMetadata": {
    "mostRecentlyExecutedCommandWithImplicitDF": {
     "commandId": 7360671609842964,
     "dataframes": [
      "_sqldf"
     ]
    },
    "pythonIndentUnit": 4
   },
   "notebookName": "Patient_SCD2",
   "widgets": {}
  },
  "language_info": {
   "name": "python"
  }
 },
 "nbformat": 4,
 "nbformat_minor": 0
}
