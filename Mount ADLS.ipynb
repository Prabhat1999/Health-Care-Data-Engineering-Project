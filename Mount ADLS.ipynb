{
 "cells": [
  {
   "cell_type": "code",
   "execution_count": 0,
   "metadata": {
    "application/vnd.databricks.v1+cell": {
     "cellMetadata": {
      "byteLimit": 2048000,
      "rowLimit": 10000
     },
     "inputWidgets": {},
     "nuid": "718fd421-b234-4c13-b8cf-da13a5620baf",
     "showTitle": false,
     "tableResultSettingsMap": {},
     "title": ""
    }
   },
   "outputs": [],
   "source": [
    "storageAccName = \"dlhealthcareproject\"\n",
    "storageAccAccessKey = dbutils.secrets.get('healthcare-kv','adls-access-key-kv')\n",
    "mountPoint = [\"configs\"] # \"gold\",\"silver\",\"bronze\",\"landing\",\n",
    "for mountPoint in mountPoint:\n",
    "    if not any(mount.mountPoint == f\"/mnt/{mountPoint}\" for mount in dbutils.fs.mounts()):\n",
    "        try:\n",
    "            dbutils.fs.mount(\n",
    "                source = \"wasbs://{}@{}.blob.core.windows.net\".format(mountPoint, storageAccName),\n",
    "                mount_point = f\"/mnt/{mountPoint}\",\n",
    "                extra_configs = {'fs.azure.account.key.' + storageAccName + '.blob.core.windows.net': storageAccAccessKey}\n",
    "            )\n",
    "            print(f\"{mountPoint} mount succeeded!!\")\n",
    "        except Exception as e:\n",
    "            print(f\"Error mounting {mountPoint}: {e}\")"
   ]
  },
  {
   "cell_type": "code",
   "execution_count": 0,
   "metadata": {
    "application/vnd.databricks.v1+cell": {
     "cellMetadata": {},
     "inputWidgets": {},
     "nuid": "ec2d050d-e124-4744-86d4-ae7722b2e382",
     "showTitle": false,
     "tableResultSettingsMap": {},
     "title": ""
    }
   },
   "outputs": [],
   "source": []
  }
 ],
 "metadata": {
  "application/vnd.databricks.v1+notebook": {
   "computePreferences": null,
   "dashboards": [],
   "environmentMetadata": {
    "base_environment": "",
    "environment_version": "2"
   },
   "inputWidgetPreferences": null,
   "language": "python",
   "notebookMetadata": {
    "pythonIndentUnit": 4
   },
   "notebookName": "Mount ADLS",
   "widgets": {}
  },
  "language_info": {
   "name": "python"
  }
 },
 "nbformat": 4,
 "nbformat_minor": 0
}
