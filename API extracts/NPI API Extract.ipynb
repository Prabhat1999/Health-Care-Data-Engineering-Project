{
 "cells": [
  {
   "cell_type": "code",
   "execution_count": 0,
   "metadata": {
    "application/vnd.databricks.v1+cell": {
     "cellMetadata": {
      "byteLimit": 2048000,
      "rowLimit": 10000
     },
     "inputWidgets": {},
     "nuid": "2b4fa350-0ecc-4224-acee-191fe8e3bf0e",
     "showTitle": false,
     "tableResultSettingsMap": {},
     "title": ""
    }
   },
   "outputs": [],
   "source": [
    "from datetime import date\n",
    "import requests\n",
    "from pyspark.sql import SparkSession"
   ]
  },
  {
   "cell_type": "code",
   "execution_count": 0,
   "metadata": {
    "application/vnd.databricks.v1+cell": {
     "cellMetadata": {
      "byteLimit": 2048000,
      "rowLimit": 10000
     },
     "inputWidgets": {},
     "nuid": "e2db4cb6-e098-44dc-b872-593f2c195944",
     "showTitle": false,
     "tableResultSettingsMap": {},
     "title": ""
    }
   },
   "outputs": [],
   "source": [
    "current_date=date.today()\n",
    "\n",
    "spark = SparkSession.builder.appName(\"NPI Data\").getOrCreate()\n",
    "\n",
    "# Base URL for the NPI Registry API\n",
    "base_url =  \"https://npiregistry.cms.hhs.gov/api/\"\n",
    "\n",
    "# Defining the parameters for the initial API request to get a list of NPIs\n",
    "params = {\n",
    "    \"version\": \"2.1\",  \n",
    "    \"state\": \"CA\",\n",
    "    \"city\": \"Los Angeles\",\n",
    "    \"limit\": 20,\n",
    "}\n",
    "\n",
    "response = requests.get(base_url, params=params)\n",
    "\n",
    "if response.status_code == 200:\n",
    "    npi_data = response.json()\n",
    "    npi_list = [result[\"number\"] for result in npi_data.get(\"results\",[])]\n",
    "\n",
    "    detailed_results = []  \n",
    "\n",
    "    for npi in npi_list:\n",
    "        detailed_param = {\"version\":\"2.1\", \"number\":npi}\n",
    "        detail_response = requests.get(base_url,params =detailed_param )\n",
    "        if detail_response.status_code == 200:\n",
    "            detail_data = detail_response.json()\n",
    "\n",
    "        if \"results\" in detail_data and detail_data[\"results\"]:\n",
    "            for result in detail_data[\"results\"]:\n",
    "                npi_number = result.get(\"number\")\n",
    "                basic_info = result.get(\"basic\", {})\n",
    "                if result[\"enumeration_type\"] == \"NPI-1\":\n",
    "                    fname = basic_info.get(\"first_name\", \"\")\n",
    "                    lname = basic_info.get(\"last_name\", \"\")\n",
    "                else:\n",
    "                    fname = basic_info.get(\"authorized_official_first_name\", \"\")\n",
    "                    lname = basic_info.get(\"authorized_official_last_name\", \"\")\n",
    "                    position = (\n",
    "                    basic_info.get(\"authorized_official_title_or_position\", \"\")\n",
    "                    if \"authorized_official_title_or_position\" in basic_info\n",
    "                    else \"\"\n",
    "                    )\n",
    "                    organisation = basic_info.get(\"organization_name\", \"\")\n",
    "                    last_updated = basic_info.get(\"last_updated\", \"\")\n",
    "                    detailed_results.append(\n",
    "                        {\n",
    "                            \"npi_id\": npi_number,\n",
    "                            \"first_name\": fname,\n",
    "                            \"last_name\": lname,\n",
    "                            \"position\": position,\n",
    "                            \"organisation_name\": organisation,\n",
    "                            \"last_updated\": last_updated,\n",
    "                            \"refreshed_at\": current_date,\n",
    "                        }\n",
    "                    )\n",
    "\n",
    "# Create a DataFrame\n",
    "    if detailed_results:\n",
    "        print(detailed_results)\n",
    "        df = spark.createDataFrame(detailed_results)\n",
    "        df.write.format(\"parquet\").mode(\"overwrite\").save(\"/mnt/bronze/npi_extract/\")\n",
    "        df.write.format(\"delta\").mode(\"overwrite\").saveAsTable(\"npi_extract\")\n",
    "        display(df)\n",
    "\n",
    "\n",
    "    else:\n",
    "        print(\"No detailed results found.\")\n",
    "else:\n",
    "    print(f\"Failed to fetch data: {response.status_code} - {response.text}\")\n",
    "\n"
   ]
  },
  {
   "cell_type": "code",
   "execution_count": 0,
   "metadata": {
    "application/vnd.databricks.v1+cell": {
     "cellMetadata": {},
     "inputWidgets": {},
     "nuid": "a77a0961-7dc6-46b0-b516-5530aeb4e8f9",
     "showTitle": false,
     "tableResultSettingsMap": {},
     "title": ""
    }
   },
   "outputs": [],
   "source": [
    "df.write.format(\"parquet\").mode(\"overwrite\").save(\"/mnt/bronze/npi_extract/\")\n",
    "df.write.format(\"delta\").mode(\"overwrite\").saveAsTable(\"npi_extract\")"
   ]
  }
 ],
 "metadata": {
  "application/vnd.databricks.v1+notebook": {
   "computePreferences": null,
   "dashboards": [],
   "environmentMetadata": {
    "base_environment": "",
    "environment_version": "2"
   },
   "inputWidgetPreferences": null,
   "language": "python",
   "notebookMetadata": {
    "pythonIndentUnit": 4
   },
   "notebookName": "NPI API Extract",
   "widgets": {}
  },
  "language_info": {
   "name": "python"
  }
 },
 "nbformat": 4,
 "nbformat_minor": 0
}
